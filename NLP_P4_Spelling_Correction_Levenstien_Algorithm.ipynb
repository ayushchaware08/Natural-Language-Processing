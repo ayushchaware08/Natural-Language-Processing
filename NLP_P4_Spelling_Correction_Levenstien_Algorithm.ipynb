{
  "nbformat": 4,
  "nbformat_minor": 0,
  "metadata": {
    "colab": {
      "provenance": []
    },
    "kernelspec": {
      "name": "python3",
      "display_name": "Python 3"
    },
    "language_info": {
      "name": "python"
    }
  },
  "cells": [
    {
      "cell_type": "markdown",
      "source": [
        "Name: Ayush Chaware\n",
        "\n",
        "Roll No.: 22\n",
        "\n",
        "Section: A\n",
        "\n",
        "**Aim** : Write a Python program for Spelling Correction using Levenstien algorithm."
      ],
      "metadata": {
        "id": "8ndU0QvzcoxW"
      }
    },
    {
      "cell_type": "code",
      "execution_count": null,
      "metadata": {
        "colab": {
          "base_uri": "https://localhost:8080/"
        },
        "id": "wx5Bux96zM9V",
        "outputId": "2d7f647b-61c6-4f6b-cd5d-3d12abca4b5e"
      },
      "outputs": [
        {
          "output_type": "stream",
          "name": "stdout",
          "text": [
            "Requirement already satisfied: textblob in /usr/local/lib/python3.10/dist-packages (0.17.1)\n",
            "Requirement already satisfied: nltk>=3.1 in /usr/local/lib/python3.10/dist-packages (from textblob) (3.8.1)\n",
            "Requirement already satisfied: click in /usr/local/lib/python3.10/dist-packages (from nltk>=3.1->textblob) (8.1.7)\n",
            "Requirement already satisfied: joblib in /usr/local/lib/python3.10/dist-packages (from nltk>=3.1->textblob) (1.4.2)\n",
            "Requirement already satisfied: regex>=2021.8.3 in /usr/local/lib/python3.10/dist-packages (from nltk>=3.1->textblob) (2024.5.15)\n",
            "Requirement already satisfied: tqdm in /usr/local/lib/python3.10/dist-packages (from nltk>=3.1->textblob) (4.66.4)\n"
          ]
        },
        {
          "output_type": "stream",
          "name": "stderr",
          "text": [
            "[nltk_data] Downloading package punkt to /root/nltk_data...\n",
            "[nltk_data]   Package punkt is already up-to-date!\n"
          ]
        },
        {
          "output_type": "execute_result",
          "data": {
            "text/plain": [
              "True"
            ]
          },
          "metadata": {},
          "execution_count": 37
        }
      ],
      "source": [
        "import nltk\n",
        "!pip install textblob\n",
        "from textblob import TextBlob\n",
        "nltk.download('punkt')"
      ]
    },
    {
      "cell_type": "code",
      "source": [
        "text = \"pineaple\"\n",
        "blob = TextBlob(text)\n",
        "blob\n",
        "blob.correct()"
      ],
      "metadata": {
        "colab": {
          "base_uri": "https://localhost:8080/"
        },
        "id": "Dii_BlZvz0Vh",
        "outputId": "087ed7d8-dbf7-4637-f497-6813b6479103"
      },
      "execution_count": null,
      "outputs": [
        {
          "output_type": "execute_result",
          "data": {
            "text/plain": [
              "TextBlob(\"pineapple\")"
            ]
          },
          "metadata": {},
          "execution_count": 38
        }
      ]
    },
    {
      "cell_type": "markdown",
      "source": [
        "**Levenshtein Algorithm**"
      ],
      "metadata": {
        "id": "Z54qynt4Fxj7"
      }
    },
    {
      "cell_type": "code",
      "source": [
        "!pip install python-Levenshtein\n",
        "import Levenshtein\n",
        "import re\n",
        "from collections import Counter"
      ],
      "metadata": {
        "colab": {
          "base_uri": "https://localhost:8080/"
        },
        "id": "E-_b-q7V0Rfx",
        "outputId": "6daf3230-e8a6-4a08-9a68-24ab96287f25"
      },
      "execution_count": null,
      "outputs": [
        {
          "output_type": "stream",
          "name": "stdout",
          "text": [
            "Requirement already satisfied: python-Levenshtein in /usr/local/lib/python3.10/dist-packages (0.25.1)\n",
            "Requirement already satisfied: Levenshtein==0.25.1 in /usr/local/lib/python3.10/dist-packages (from python-Levenshtein) (0.25.1)\n",
            "Requirement already satisfied: rapidfuzz<4.0.0,>=3.8.0 in /usr/local/lib/python3.10/dist-packages (from Levenshtein==0.25.1->python-Levenshtein) (3.9.5)\n"
          ]
        }
      ]
    },
    {
      "cell_type": "markdown",
      "source": [
        "input Data"
      ],
      "metadata": {
        "id": "uZtCsTCWGRO_"
      }
    },
    {
      "cell_type": "code",
      "source": [
        "data1 = \"thos is a natura\""
      ],
      "metadata": {
        "id": "JcAWf1zX3NR3"
      },
      "execution_count": null,
      "outputs": []
    },
    {
      "cell_type": "code",
      "source": [
        "def words(text):\n",
        "    return re.findall(r'\\w+', text.lower())\n",
        "\n",
        "def load_corpus(file_path):\n",
        "    with open(file_path, 'r', encoding='utf-8') as file:\n",
        "        return words(file.read())"
      ],
      "metadata": {
        "id": "ZGExKO_W3REQ"
      },
      "execution_count": null,
      "outputs": []
    },
    {
      "cell_type": "code",
      "source": [
        "# candidate key gen : Function to build vocabulary from the corpus\n",
        "def build_vocab(corpus):\n",
        "    return Counter(corpus)\n"
      ],
      "metadata": {
        "id": "JEGdNR1g3gow"
      },
      "execution_count": null,
      "outputs": []
    },
    {
      "cell_type": "code",
      "source": [
        "# edit opration: Function to find the closest match using Levenshtein distance\n",
        "def correct_word(word, vocab):\n",
        "    closest_word = min(vocab, key=lambda w: Levenshtein.distance(word, w))\n",
        "    return closest_word"
      ],
      "metadata": {
        "id": "StfOA6Lu3jbQ"
      },
      "execution_count": null,
      "outputs": []
    },
    {
      "cell_type": "code",
      "source": [
        "# Function to correct text using Levenshtein distance\n",
        "def correct_text(text, vocab):\n",
        "    corrected_text = []\n",
        "    for word in text.split():\n",
        "        cleaned_word = re.sub(r'\\W+', '', word)  # Remove punctuation for comparison\n",
        "        if cleaned_word.lower() in vocab:\n",
        "            corrected_word = word  # If the word is correct, keep it as is\n",
        "        else:\n",
        "            corrected_word = correct_word(cleaned_word.lower(), vocab)\n",
        "            if word[0].isupper():\n",
        "                corrected_word = corrected_word.capitalize()\n",
        "        corrected_text.append(corrected_word)\n",
        "    return ' '.join(corrected_text)"
      ],
      "metadata": {
        "id": "bpmVT4353lWg"
      },
      "execution_count": null,
      "outputs": []
    },
    {
      "cell_type": "code",
      "source": [
        "# Load your corpus and build the vocabulary\n",
        "corpus = load_corpus('/content/test.txt')  # Ensure you have a text file named 'big.txt' in the same directory\n",
        "WORDS = build_vocab(corpus)\n"
      ],
      "metadata": {
        "id": "sU75WWIA3zJg"
      },
      "execution_count": null,
      "outputs": []
    },
    {
      "cell_type": "markdown",
      "source": [
        "# New Section"
      ],
      "metadata": {
        "id": "trlMOJuNfXDu"
      }
    },
    {
      "cell_type": "code",
      "source": [
        "# Example usage\n",
        "data1 = \"Tesla is one of the world's most valable cpanies in terms of maret capitalistion.\"\n",
        "corrected_text = correct_text(data1, WORDS)\n",
        "# print(f\"Original text: {data1}\")\n",
        "print(f\"Corrected text: {corrected_text}\")"
      ],
      "metadata": {
        "colab": {
          "base_uri": "https://localhost:8080/"
        },
        "id": "EMMHO7sL32lA",
        "outputId": "2f135550-79d2-49f6-bf78-d4a65a97bc36"
      },
      "execution_count": null,
      "outputs": [
        {
          "output_type": "stream",
          "name": "stdout",
          "text": [
            "Corrected text: Tesla is one of the world most valuable companies in terms of market capitalization\n"
          ]
        }
      ]
    },
    {
      "cell_type": "code",
      "source": [
        "!pip install pyspellchecker\n",
        "from spellchecker import SpellChecker"
      ],
      "metadata": {
        "colab": {
          "base_uri": "https://localhost:8080/"
        },
        "id": "RRtcJ4vq36Sg",
        "outputId": "ebfb8029-591c-4b09-be69-afa2b5328857"
      },
      "execution_count": null,
      "outputs": [
        {
          "output_type": "stream",
          "name": "stdout",
          "text": [
            "Requirement already satisfied: pyspellchecker in /usr/local/lib/python3.10/dist-packages (0.8.1)\n"
          ]
        }
      ]
    },
    {
      "cell_type": "code",
      "source": [
        "import sys\n",
        "!{sys.executable} -m pip install pyspellchecker"
      ],
      "metadata": {
        "colab": {
          "base_uri": "https://localhost:8080/"
        },
        "id": "v601xyHMEfPg",
        "outputId": "2789554d-d8b9-42ae-cc3e-e6dcc008b519"
      },
      "execution_count": null,
      "outputs": [
        {
          "output_type": "stream",
          "name": "stdout",
          "text": [
            "Requirement already satisfied: pyspellchecker in /usr/local/lib/python3.10/dist-packages (0.8.1)\n"
          ]
        }
      ]
    },
    {
      "cell_type": "code",
      "source": [
        "spell=SpellChecker()\n",
        "misspelled=spell.unknown([\"computr\",\"watr\"])\n",
        "\n",
        "for word in misspelled:\n",
        "    print(spell.correction(word))\n",
        "    print(spell.candidates(word))"
      ],
      "metadata": {
        "colab": {
          "base_uri": "https://localhost:8080/"
        },
        "id": "tzj7VjKxEouu",
        "outputId": "d6abcf62-87e7-4753-9a74-9cd6ad69da59"
      },
      "execution_count": null,
      "outputs": [
        {
          "output_type": "stream",
          "name": "stdout",
          "text": [
            "water\n",
            "{'water', 'watt', 'wat', 'war', 'wart'}\n",
            "computer\n",
            "{'compute', 'computer'}\n"
          ]
        }
      ]
    }
  ]
}